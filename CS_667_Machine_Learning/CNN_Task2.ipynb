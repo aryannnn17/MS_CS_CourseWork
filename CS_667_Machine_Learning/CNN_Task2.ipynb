{
  "cells": [
    {
      "cell_type": "code",
      "execution_count": 19,
      "metadata": {
        "id": "if5Nr-BjOLDe"
      },
      "outputs": [],
      "source": [
        "#Name: Aryan Jigneshbhai Bhagat\n",
        "#Net ID: sl5310\n",
        "#Email: abhagat4@gmail.com\n",
        "\n",
        "import numpy as np\n",
        "\n",
        "def con_2D(input_matrix, filters, bias, stride=1, padding=1):\n",
        "    (prev_channels, prev_H, prev_W) = input_matrix.shape\n",
        "    (filterNum, filterSize, _, _) = filters.shape\n",
        "\n",
        "    output_H = (prev_H + 2 * padding - filterSize) // stride + 1\n",
        "    output_W = (prev_W + 2 * padding - filterSize) // stride + 1\n",
        "\n",
        "    outputMatrix = np.zeros((filterNum, output_H, output_W))\n",
        "    paddedInput = np.pad(input_matrix, ((0, 0), (padding, padding), (padding, padding)), mode='constant')\n",
        "\n",
        "    for filter_idx in range(filterNum):\n",
        "        for row in range(output_H):\n",
        "            for col in range(output_W):\n",
        "                row_start = row * stride\n",
        "                row_end = row_start + filterSize\n",
        "                col_start = col * stride\n",
        "                col_end = col_start + filterSize\n",
        "\n",
        "                input_patch = paddedInput[:, row_start:row_end, col_start:col_end]\n",
        "                if input_patch.shape == filters[filter_idx].shape[1:]:\n",
        "                    outputMatrix[filter_idx, row, col] = np.sum(input_patch * filters[filter_idx]) + bias[filter_idx]\n",
        "\n",
        "    return outputMatrix\n"
      ]
    },
    {
      "cell_type": "code",
      "execution_count": 20,
      "metadata": {
        "id": "Pn6uPw5AOYPZ"
      },
      "outputs": [],
      "source": [
        "def pooling(input_matrix, filterSize=2, step=2, pool_type='max'):\n",
        "    (channels, height, width) = input_matrix.shape\n",
        "    new_H = (height - filterSize) // step + 1\n",
        "    new_W = (width - filterSize) // step + 1\n",
        "\n",
        "    pooledOutput = np.zeros((channels, new_H, new_W))\n",
        "\n",
        "    for channel in range(channels):\n",
        "        for row in range(new_H):\n",
        "            for col in range(new_W):\n",
        "                row_start = row * step\n",
        "                row_end = row_start + filterSize\n",
        "                col_start = col * step\n",
        "                col_end = col_start + filterSize\n",
        "\n",
        "                if pool_type == 'max':\n",
        "                    pooledOutput[channel, row, col] = np.max(input_matrix[channel, row_start:row_end, col_start:col_end])\n",
        "\n",
        "    return pooledOutput\n"
      ]
    },
    {
      "cell_type": "code",
      "execution_count": 4,
      "metadata": {
        "id": "Wa0kg89uOc0r"
      },
      "outputs": [],
      "source": [
        "def dense_layer(input_vector, weights, bias):\n",
        "    flattened_input = input_vector.ravel()\n",
        "    output = np.dot(weights, flattened_input) + bias\n",
        "    return output"
      ]
    },
    {
      "cell_type": "code",
      "execution_count": 5,
      "metadata": {
        "id": "Mp9oGtWROgNG"
      },
      "outputs": [],
      "source": [
        "def relu_activation(input_array):\n",
        "    return np.where(input_array > 0, input_array, 0)"
      ]
    },
    {
      "cell_type": "code",
      "execution_count": 6,
      "metadata": {
        "id": "tL2ZzTOIOkau"
      },
      "outputs": [],
      "source": [
        "\n",
        "X = np.random.randn(3, 6, 6)"
      ]
    },
    {
      "cell_type": "code",
      "execution_count": 14,
      "metadata": {
        "id": "z4zU5OjJOq-m"
      },
      "outputs": [],
      "source": [
        "\n",
        "W1 = np.random.randn(3, 2, 3, 3)\n",
        "b1 = np.random.randn(3)\n",
        "\n",
        "Z1 = convolution2d(X, W1, b1, stride=1, padding=1)\n",
        "A1 = relu_activation(Z1)\n",
        "P1 = pooling(A1, filter_size=2, step=2)"
      ]
    },
    {
      "cell_type": "code",
      "execution_count": 15,
      "metadata": {
        "id": "EkoYGRaTOu6M"
      },
      "outputs": [],
      "source": [
        "\n",
        "W2 = np.random.randn(2, 3, 3, 3)\n",
        "b2 = np.random.randn(2)\n",
        "\n",
        "Z2 = convolution2d(P1, W2, b2, stride=1, padding=1)\n",
        "A2 = relu_activation(Z2)\n",
        "P2 = pooling(A2, filter_size=2, step=2)"
      ]
    },
    {
      "cell_type": "code",
      "execution_count": 16,
      "metadata": {
        "id": "k-D2Q2FkOxm4"
      },
      "outputs": [],
      "source": [
        "\n",
        "P2_flat = P2.flatten()\n",
        "W_fc = np.random.randn(10, P2_flat.size)\n",
        "b_fc = np.random.randn(10)"
      ]
    },
    {
      "cell_type": "code",
      "execution_count": 17,
      "metadata": {
        "colab": {
          "base_uri": "https://localhost:8080/"
        },
        "id": "cV_PwZZ_OzwH",
        "outputId": "42d09414-1e11-4593-e967-55bd53c4778f"
      },
      "outputs": [
        {
          "name": "stdout",
          "output_type": "stream",
          "text": [
            "Final Output: [ 0.11983576  0.9464292   0.64547439 -0.2605959  -1.53125573 -0.18929383\n",
            " -0.4255781  -0.10478172  2.41501606  0.87571463]\n"
          ]
        }
      ],
      "source": [
        "\n",
        "output = np.dot(W_fc, P2_flat) + b_fc  \n",
        "print(\"Final Output:\", output)"
      ]
    }
  ],
  "metadata": {
    "colab": {
      "provenance": []
    },
    "kernelspec": {
      "display_name": "Python 3",
      "name": "python3"
    },
    "language_info": {
      "name": "python"
    }
  },
  "nbformat": 4,
  "nbformat_minor": 0
}
