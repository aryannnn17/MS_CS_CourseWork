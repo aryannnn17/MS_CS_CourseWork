{
 "cells": [
  {
   "cell_type": "markdown",
   "metadata": {},
   "source": [
    "# Assignment 2, 8-Puzzle Programming - A Star"
   ]
  },
  {
   "cell_type": "markdown",
   "metadata": {},
   "source": [
    "### Your homework must be implemented in this Notebook file. \n",
    "### You can add as many cells as you want. However, you are not allowed to touch the code below the line \"=============\".\n",
    "### You need to implement the two searching functions and the print result functions.\n",
    "### For the searching functions, feel free to customize the return data types and parameter lists as long as the function name is as required.\n"
   ]
  },
  {
   "cell_type": "code",
   "execution_count": null,
   "metadata": {
    "collapsed": true
   },
   "outputs": [],
   "source": []
  },
  {
   "cell_type": "code",
   "execution_count": 1,
   "metadata": {
    "collapsed": true
   },
   "outputs": [],
   "source": [
    "#implementation of function \"A Star Misplaced\"\n"
   ]
  },
  {
   "cell_type": "code",
   "execution_count": 4,
   "metadata": {
    "collapsed": true
   },
   "outputs": [],
   "source": [
    "#implementation of function \"A Star Manhattan Distance\"\n"
   ]
  },
  {
   "cell_type": "code",
   "execution_count": 5,
   "metadata": {
    "collapsed": true
   },
   "outputs": [],
   "source": [
    "#implementation of function \"print_result(result)\""
   ]
  },
  {
   "cell_type": "code",
   "execution_count": null,
   "metadata": {
    "collapsed": true
   },
   "outputs": [],
   "source": []
  },
  {
   "cell_type": "code",
   "execution_count": null,
   "metadata": {
    "collapsed": true
   },
   "outputs": [],
   "source": []
  },
  {
   "cell_type": "code",
   "execution_count": null,
   "metadata": {
    "collapsed": true
   },
   "outputs": [],
   "source": []
  },
  {
   "cell_type": "markdown",
   "metadata": {},
   "source": [
    "You can insert as many cells as you want above\n",
    "You are not Allowed to modify the code below this line.\n",
    "## ==============================="
   ]
  },
  {
   "cell_type": "code",
   "execution_count": null,
   "metadata": {
    "collapsed": true
   },
   "outputs": [],
   "source": [
    "#you need to implement print_result function to print out the result according to the required format\n",
    "print_result(result)"
   ]
  },
  {
   "cell_type": "markdown",
   "metadata": {},
   "source": [
    "\n",
    "# The output format should be as follows. You only need to give one sample solution as an example.\n",
    "+++++++++++++++++++++++++++++++++++++++++++++++++++++++++++++++++++++++++++++++++++++\n",
    "# Solution of the first Scenario:\n",
    "#### X X X\n",
    "#### X X X\n",
    "#### X X X\n",
    "#### to\n",
    "#### X X X\n",
    "#### X X X\n",
    "#### X X X\n",
    "#### to\n",
    "#### X X X\n",
    "#### X X X\n",
    "#### X X X\n",
    "#### to\n",
    "#### X X X\n",
    "#### X X X\n",
    "#### X X X\n",
    "#### to\n",
    "#### .\n",
    "#### .\n",
    "#### .\n",
    "#### 0 1 2\n",
    "#### 3 4 5\n",
    "#### 6 7 8\n",
    "\n",
    "                    Average_Steps    Average_Time      \n",
    " Miss Placed\n",
    " \n",
    " Manhattan Distance\n",
    "\n"
   ]
  }
 ],
 "metadata": {
  "anaconda-cloud": {},
  "kernelspec": {
   "display_name": "Python 3",
   "language": "python",
   "name": "python3"
  },
  "language_info": {
   "codemirror_mode": {
    "name": "ipython",
    "version": 3
   },
   "file_extension": ".py",
   "mimetype": "text/x-python",
   "name": "python",
   "nbconvert_exporter": "python",
   "pygments_lexer": "ipython3",
   "version": "3.8.5"
  }
 },
 "nbformat": 4,
 "nbformat_minor": 1
}
