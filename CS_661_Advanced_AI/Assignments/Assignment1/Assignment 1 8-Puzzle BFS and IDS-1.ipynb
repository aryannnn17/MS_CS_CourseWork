{
 "cells": [
  {
   "cell_type": "markdown",
   "metadata": {},
   "source": [
    "# Assignment 1, 8-Puzzle Programming"
   ]
  },
  {
   "cell_type": "markdown",
   "metadata": {},
   "source": [
    "#### Your homework must be implemented in this Notebook file. \n",
    "#### You can add as many cells as you want. However, you are not allowed to touch the code below the line \"=============\".\n",
    "#### You need to implement the searching functions and the print result functions. The \"print_result() function call after \"====\" line will print out the results in the format indicated in the Assignment description.\n",
    "#### For the searching functions, feel free to customize the return data types and parameter lists as long as the function name is as required.\n",
    "\n",
    "Write your name, netID and email here.\n",
    "\n",
    "### Name: Aryan Jigneshbhai Bhagat\n",
    "### NetID: sl5310\n",
    "### Email: abhagat4@horizon.csueastbay.edu"
   ]
  },
  {
   "cell_type": "code",
   "execution_count": 10,
   "metadata": {},
   "outputs": [],
   "source": [
    "from collections import deque\n",
    "import time"
   ]
  },
  {
   "cell_type": "code",
   "execution_count": 11,
   "metadata": {
    "collapsed": true
   },
   "outputs": [],
   "source": [
    "#implementation of function \"Iterative_deepening_DFS\"\n",
    "def bfs(start, goal=(0,1,2,3,4,5,6,7,8)):\n",
    "    \"\"\"\n",
    "    Breadth-First Search implementation for 8-puzzle.\n",
    "    Returns: (path, nodes_expanded, nodes_visited)\n",
    "    \"\"\"\n",
    "    if start == goal: \n",
    "        return [], 0, 1\n",
    "        \n",
    "    queue = deque([start])\n",
    "    parent = {start: (None, None)}  # state: (parent_state, move)\n",
    "    visited = {start}\n",
    "    expansions = 0\n",
    "\n",
    "    while queue:\n",
    "        current = queue.popleft()\n",
    "        expansions += 1\n",
    "        zi = current.index(0)  # position of zero\n",
    "        \n",
    "        for nz in ADJ[zi]:\n",
    "            # Create new state by swapping zero with adjacent tile\n",
    "            lst = list(current)\n",
    "            lst[zi], lst[nz] = lst[nz], lst[zi]\n",
    "            new_state = tuple(lst)\n",
    "            \n",
    "            if new_state not in visited:\n",
    "                move = get_move_name(zi, nz)\n",
    "                parent[new_state] = (current, move)\n",
    "                \n",
    "                if new_state == goal:\n",
    "                    # Reconstruct path\n",
    "                    path = []\n",
    "                    state = new_state\n",
    "                    while parent[state][0] is not None:\n",
    "                        state, move = parent[state]\n",
    "                        path.append(move)\n",
    "                    path.reverse()\n",
    "                    return path, expansions, len(visited) + 1\n",
    "                \n",
    "                visited.add(new_state)\n",
    "                queue.append(new_state)\n",
    "    \n",
    "    return None, expansions, len(visited)  # No solution found"
   ]
  },
  {
   "cell_type": "code",
   "execution_count": 12,
   "metadata": {
    "collapsed": true
   },
   "outputs": [],
   "source": [
    "#implementation of function \"breadthFirstSearch\" \n",
    "def dls(state, goal, depth_limit, expansions, path, parent):\n",
    "    \"\"\"Depth-Limited Search helper function for IDS.\"\"\"\n",
    "    if state == goal:\n",
    "        return True, expansions + 1\n",
    "    if depth_limit == 0:\n",
    "        return False, expansions + 1\n",
    "    \n",
    "    zi = state.index(0)\n",
    "    for nz in ADJ[zi]:\n",
    "        # Create new state by swapping zero with adjacent tile\n",
    "        lst = list(state)\n",
    "        lst[zi], lst[nz] = lst[nz], lst[zi]\n",
    "        new_state = tuple(lst)\n",
    "        \n",
    "        if new_state not in path:\n",
    "            move = get_move_name(zi, nz)\n",
    "            parent[new_state] = (state, move)\n",
    "            path.add(new_state)\n",
    "            \n",
    "            found, expansions = dls(new_state, goal, depth_limit - 1, expansions, path, parent)\n",
    "            if found:\n",
    "                return True, expansions\n",
    "                \n",
    "            path.remove(new_state)\n",
    "    \n",
    "    return False, expansions\n",
    "\n",
    "def ids(start, goal=(0,1,2,3,4,5,6,7,8)):\n",
    "    \"\"\"\n",
    "    Iterative Deepening Search implementation for 8-puzzle.\n",
    "    Returns: (path, nodes_expanded)\n",
    "    \"\"\"\n",
    "    if start == goal:\n",
    "        return [], 0\n",
    "    \n",
    "    depth = 0\n",
    "    total_expansions = 0\n",
    "    \n",
    "    while True:\n",
    "        parent = {start: (None, None)}\n",
    "        path = {start}\n",
    "        found, expansions = dls(start, goal, depth, 0, path, parent)\n",
    "        total_expansions += expansions\n",
    "        \n",
    "        if found:\n",
    "            # Reconstruct path\n",
    "            solution = []\n",
    "            state = goal\n",
    "            while parent[state][0] is not None:\n",
    "                state, move = parent[state]\n",
    "                solution.append(move)\n",
    "            solution.reverse()\n",
    "            return solution, total_expansions\n",
    "            \n",
    "        depth += 1"
   ]
  },
  {
   "cell_type": "code",
   "execution_count": 13,
   "metadata": {
    "collapsed": true
   },
   "outputs": [],
   "source": [
    "import time, csv\n",
    "\n",
    "def solve_all(cases):\n",
    "    rows = []\n",
    "    for i, s in enumerate(cases, 1):\n",
    "        for algo in (\"IDS\",\"BFS\"):\n",
    "            t0 = time.perf_counter()\n",
    "            if algo == \"IDS\":\n",
    "                path, expansions = ids(s)\n",
    "            else:\n",
    "                path, expansions, _ = bfs(s)\n",
    "            dt = time.perf_counter() - t0\n",
    "            rows.append([i, algo, len(path), expansions, f\"{dt:.3f}\"])\n",
    "    return rows\n",
    "\n",
    "# Example write-out (adapt to the notebook’s required print format):\n",
    "# with open(\"results.csv\",\"w\",newline=\"\") as f: csv.writer(f).writerows([[\"case\",\"algo\",\"moves\",\"expansions\",\"seconds\"], *rows])\n"
   ]
  },
  {
   "cell_type": "code",
   "execution_count": 14,
   "metadata": {},
   "outputs": [],
   "source": [
    "def read_cases(filename=\"Input8PuzzleCases.txt\"):\n",
    "    \"\"\"Read puzzle cases from input file.\"\"\"\n",
    "    cases = []\n",
    "    try:\n",
    "        with open(filename, 'r') as f:\n",
    "            for line in f:\n",
    "                # Remove any whitespace and split by commas\n",
    "                nums = [int(x.strip()) for x in line.strip().split(',')]\n",
    "                cases.append(tuple(nums))\n",
    "    except FileNotFoundError:\n",
    "        print(f\"Error: Could not find file {filename}\")\n",
    "    return cases"
   ]
  },
  {
   "cell_type": "code",
   "execution_count": 15,
   "metadata": {
    "collapsed": true
   },
   "outputs": [],
   "source": [
    "ADJ = {\n",
    "    0: [1, 3],\n",
    "    1: [0, 2, 4],\n",
    "    2: [1, 5],\n",
    "    3: [0, 4, 6],\n",
    "    4: [1, 3, 5, 7],\n",
    "    5: [2, 4, 8],\n",
    "    6: [3, 7],\n",
    "    7: [4, 6, 8],\n",
    "    8: [5, 7]\n",
    "}\n",
    "\n",
    "def get_move_name(zi, nz):\n",
    "    \"\"\"Determine the move name based on zero position and new zero position.\"\"\"\n",
    "    diff = nz - zi\n",
    "    if diff == 1: return 'right'\n",
    "    if diff == -1: return 'left'\n",
    "    if diff == 3: return 'down'\n",
    "    if diff == -3: return 'up'\n",
    "    return 'unknown'"
   ]
  },
  {
   "cell_type": "code",
   "execution_count": null,
   "metadata": {
    "collapsed": true
   },
   "outputs": [],
   "source": [
    "def main():\n",
    "    \"\"\"Main function to run the 8-puzzle solver.\"\"\"\n",
    "    # Read puzzle cases\n",
    "    cases = read_cases(\"Input8PuzzleCases.txt\")\n",
    "    if not cases:\n",
    "        print(\"No test cases found. Please check your input file.\")\n",
    "        return\n",
    "    \n",
    "    # Solve each case with both algorithms\n",
    "    for i, puzzle in enumerate(cases, 1):\n",
    "        print(f\"\\n--- Case {i} ---\")\n",
    "        print(f\"Initial state: {puzzle}\")\n",
    "        \n",
    "        # Solve with BFS\n",
    "        start_time = time.time()\n",
    "        path, expansions, _ = bfs(puzzle)\n",
    "        time_taken = time.time() - start_time\n",
    "        print_result((i, \"BFS\", path, expansions, time_taken))\n",
    "        \n",
    "        # Solve with IDS\n",
    "        start_time = time.time()\n",
    "        path, expansions = ids(puzzle)\n",
    "        time_taken = time.time() - start_time\n",
    "        print_result((i, \"IDS\", path, expansions, time_taken))"
   ]
  },
  {
   "cell_type": "markdown",
   "metadata": {},
   "source": [
    "## You can insert as many cells as you want above\n",
    "## You are not Allowed to modify the code below this line.\n",
    "\n",
    "# ============================================================"
   ]
  },
  {
   "cell_type": "code",
   "execution_count": 22,
   "metadata": {
    "collapsed": true
   },
   "outputs": [
    {
     "name": "stdout",
     "output_type": "stream",
     "text": [
      "\n",
      "--- Case 1 ---\n",
      "Initial state: (8, 7, 5, 4, 1, 2, 3, 0, 6)\n"
     ]
    },
    {
     "ename": "TypeError",
     "evalue": "print_result() takes 0 positional arguments but 5 were given",
     "output_type": "error",
     "traceback": [
      "\u001b[1;31m---------------------------------------------------------------------------\u001b[0m",
      "\u001b[1;31mTypeError\u001b[0m                                 Traceback (most recent call last)",
      "Cell \u001b[1;32mIn[25], line 2\u001b[0m\n\u001b[0;32m      1\u001b[0m \u001b[38;5;66;03m#you need to implement print_result function to print out the result according to the required format\u001b[39;00m\n\u001b[1;32m----> 2\u001b[0m \u001b[43mprint_result\u001b[49m\u001b[43m(\u001b[49m\u001b[43m)\u001b[49m\n",
      "Cell \u001b[1;32mIn[24], line 17\u001b[0m, in \u001b[0;36mprint_result\u001b[1;34m()\u001b[0m\n\u001b[0;32m     15\u001b[0m path, expansions, _ \u001b[38;5;241m=\u001b[39m bfs(puzzle)\n\u001b[0;32m     16\u001b[0m time_taken \u001b[38;5;241m=\u001b[39m time\u001b[38;5;241m.\u001b[39mtime() \u001b[38;5;241m-\u001b[39m start_time\n\u001b[1;32m---> 17\u001b[0m \u001b[43mprint_result\u001b[49m\u001b[43m(\u001b[49m\u001b[43mi\u001b[49m\u001b[43m,\u001b[49m\u001b[43m \u001b[49m\u001b[38;5;124;43m\"\u001b[39;49m\u001b[38;5;124;43mBFS\u001b[39;49m\u001b[38;5;124;43m\"\u001b[39;49m\u001b[43m,\u001b[49m\u001b[43m \u001b[49m\u001b[43mpath\u001b[49m\u001b[43m,\u001b[49m\u001b[43m \u001b[49m\u001b[43mexpansions\u001b[49m\u001b[43m,\u001b[49m\u001b[43m \u001b[49m\u001b[43mtime_taken\u001b[49m\u001b[43m)\u001b[49m\n\u001b[0;32m     19\u001b[0m \u001b[38;5;66;03m# Solve with IDS\u001b[39;00m\n\u001b[0;32m     20\u001b[0m start_time \u001b[38;5;241m=\u001b[39m time\u001b[38;5;241m.\u001b[39mtime()\n",
      "\u001b[1;31mTypeError\u001b[0m: print_result() takes 0 positional arguments but 5 were given"
     ]
    }
   ],
   "source": [
    "#you need to implement print_result function to print out the result according to the required format\n",
    "print_result()"
   ]
  },
  {
   "cell_type": "markdown",
   "metadata": {},
   "source": [
    "\n",
    "# The output format should be as follows. You only need to give one sample solution as an example.\n",
    "+++++++++++++++++++++++++++++++++++++++++++++++++++++++++++++++++++++++++++++++++++++\n",
    "# Solution of the first Scenario:\n",
    "#### X X X\n",
    "#### X X X\n",
    "#### X X X\n",
    "#### to\n",
    "#### X X X\n",
    "#### X X X\n",
    "#### X X X\n",
    "#### to\n",
    "#### X X X\n",
    "#### X X X\n",
    "#### X X X\n",
    "#### to\n",
    "#### X X X\n",
    "#### X X X\n",
    "#### X X X\n",
    "#### to\n",
    "#### .\n",
    "#### .\n",
    "#### .\n",
    "#### 0 1 2\n",
    "#### 3 4 5\n",
    "#### 6 7 8\n",
    "\n",
    "                Average_Steps    Average_Time      \n",
    " IDS\n",
    " \n",
    " BFS\n",
    "\n"
   ]
  }
 ],
 "metadata": {
  "anaconda-cloud": {},
  "kernelspec": {
   "display_name": "Python 3",
   "language": "python",
   "name": "python3"
  },
  "language_info": {
   "codemirror_mode": {
    "name": "ipython",
    "version": 3
   },
   "file_extension": ".py",
   "mimetype": "text/x-python",
   "name": "python",
   "nbconvert_exporter": "python",
   "pygments_lexer": "ipython3",
   "version": "3.12.9"
  }
 },
 "nbformat": 4,
 "nbformat_minor": 1
}
