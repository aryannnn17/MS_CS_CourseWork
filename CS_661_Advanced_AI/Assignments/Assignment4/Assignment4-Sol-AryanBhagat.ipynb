{
 "cells": [
  {
   "cell_type": "markdown",
   "metadata": {},
   "source": [
    "### Assignment 4, Tic-Tac-Toe"
   ]
  },
  {
   "cell_type": "markdown",
   "metadata": {},
   "source": [
    "Your homework must be implemented in this Notebook file. \n",
    "You can add as many cells as you want. However, you are not allowed to touch the code below the line \"=============\".\n"
   ]
  },
  {
   "cell_type": "code",
   "execution_count": 501,
   "metadata": {},
   "outputs": [],
   "source": [
    "import random\n",
    "import copy"
   ]
  },
  {
   "cell_type": "code",
   "execution_count": 502,
   "metadata": {
    "collapsed": true
   },
   "outputs": [],
   "source": [
    "class TicTacToe:\n",
    "    def __init__(self):\n",
    "        self.board = [['*' for _ in range(3)] for _ in range(3)]\n",
    "        self.current_player = 'X'\n",
    "    \n",
    "    def print_board(self):\n",
    "        for row in self.board:\n",
    "            print(''.join(row))\n",
    "        print() \n",
    "    \n",
    "    def get_available_moves(self):\n",
    "        moves = []\n",
    "        for i in range(3):\n",
    "            for j in range(3):\n",
    "                if self.board[i][j] == '*':\n",
    "                    moves.append((i, j))\n",
    "        return moves\n",
    "    \n",
    "    def make_move(self, row, col, player):\n",
    "        if self.board[row][col] == '*':\n",
    "            self.board[row][col] = player\n",
    "            return True\n",
    "        return False\n",
    "    \n",
    "    def check_winner(self):\n",
    "        # Check rows\n",
    "        for row in self.board:\n",
    "            if row[0] == row[1] == row[2] != '*':\n",
    "                return row[0]\n",
    "        \n",
    "        # Check columns\n",
    "        for col in range(3):\n",
    "            if self.board[0][col] == self.board[1][col] == self.board[2][col] != '*':\n",
    "                return self.board[0][col]\n",
    "        \n",
    "        # Check diagonals\n",
    "        if self.board[0][0] == self.board[1][1] == self.board[2][2] != '*':\n",
    "            return self.board[0][0]\n",
    "        if self.board[0][2] == self.board[1][1] == self.board[2][0] != '*':\n",
    "            return self.board[0][2]\n",
    "        \n",
    "        # Check for draw\n",
    "        if not self.get_available_moves():\n",
    "            return 'Draw'\n",
    "        \n",
    "        return None\n",
    "    \n",
    "    def is_terminal(self):\n",
    "        return self.check_winner() is not None\n",
    "    \n",
    "    def get_copy_board(self):\n",
    "        return copy.deepcopy(self.board)"
   ]
  },
  {
   "cell_type": "code",
   "execution_count": 503,
   "metadata": {
    "collapsed": true
   },
   "outputs": [],
   "source": [
    "def evaluate_board(board):\n",
    "    # Check rows\n",
    "    for row in board:\n",
    "        if row[0] == row[1] == row[2] != '*':\n",
    "            return 10 if row[0] == 'X' else -10\n",
    "    \n",
    "    # Check columns\n",
    "    for col in range(3):\n",
    "        if board[0][col] == board[1][col] == board[2][col] != '*':\n",
    "            return 10 if board[0][col] == 'X' else -10\n",
    "    \n",
    "    # Check diagonals\n",
    "    if board[0][0] == board[1][1] == board[2][2] != '*':\n",
    "        return 10 if board[0][0] == 'X' else -10\n",
    "    if board[0][2] == board[1][1] == board[2][0] != '*':\n",
    "        return 10 if board[0][2] == 'X' else -10\n",
    "    \n",
    "    return 0"
   ]
  },
  {
   "cell_type": "code",
   "execution_count": 504,
   "metadata": {
    "collapsed": true
   },
   "outputs": [],
   "source": [
    "def minimax(board, depth, is_maximizing, alpha=-float('inf'), beta=float('inf')):\n",
    "    score = evaluate_board(board)\n",
    "    \n",
    "    if score == 10:\n",
    "        return score - depth\n",
    "    if score == -10:\n",
    "        return score + depth\n",
    "    \n",
    "    available_moves = [(i, j) for i in range(3) for j in range(3) if board[i][j] == '*']\n",
    "    \n",
    "    if not available_moves:\n",
    "        return 0\n",
    "    \n",
    "    if is_maximizing:\n",
    "        # Maximizing player (X)\n",
    "        max_score = -float('inf')\n",
    "        for row, col in available_moves:\n",
    "            board[row][col] = 'X'\n",
    "            score = minimax(board, depth + 1, False, alpha, beta)\n",
    "            board[row][col] = '*'\n",
    "            max_score = max(max_score, score)\n",
    "            alpha = max(alpha, score)\n",
    "            if beta <= alpha:\n",
    "                break \n",
    "        return max_score\n",
    "    else:\n",
    "        # Minimizing player (O)\n",
    "        min_score = float('inf')\n",
    "        for row, col in available_moves:\n",
    "            board[row][col] = 'O'\n",
    "            score = minimax(board, depth + 1, True, alpha, beta)\n",
    "            board[row][col] = '*'\n",
    "            min_score = min(min_score, score)\n",
    "            beta = min(beta, score)\n",
    "            if beta <= alpha:\n",
    "                break  \n",
    "        return min_score"
   ]
  },
  {
   "cell_type": "code",
   "execution_count": 505,
   "metadata": {
    "collapsed": true
   },
   "outputs": [],
   "source": [
    "def get_best_move(board, player):\n",
    "    best_score = -float('inf') if player == 'X' else float('inf')\n",
    "    best_move = None\n",
    "    \n",
    "    available_moves = [(i, j) for i in range(3) for j in range(3) if board[i][j] == '*']\n",
    "    \n",
    "    for row, col in available_moves:\n",
    "        board[row][col] = player\n",
    "        \n",
    "        if player == 'X':\n",
    "            score = minimax(board, 0, False)\n",
    "            if score > best_score:\n",
    "                best_score = score\n",
    "                best_move = (row, col)\n",
    "        else: \n",
    "            score = minimax(board, 0, True)\n",
    "            if score < best_score:\n",
    "                best_score = score\n",
    "                best_move = (row, col)\n",
    "        \n",
    "        board[row][col] = '*'\n",
    "    \n",
    "    return best_move"
   ]
  },
  {
   "cell_type": "code",
   "execution_count": 506,
   "metadata": {
    "collapsed": true
   },
   "outputs": [],
   "source": [
    "def print_result(game):\n",
    "    winner = game.check_winner()\n",
    "    if winner == 'X':\n",
    "        print(\"Result: X Wins!\")\n",
    "    elif winner == 'O':\n",
    "        print(\"Result: O Wins!\")\n",
    "    else:\n",
    "        print(\"Result: Draw Game\")"
   ]
  },
  {
   "cell_type": "code",
   "execution_count": 507,
   "metadata": {
    "collapsed": true
   },
   "outputs": [],
   "source": [
    "def start():\n",
    "    game = TicTacToe()\n",
    "    move_history = []  \n",
    "    \n",
    "    available_moves = game.get_available_moves()\n",
    "    first_move = random.choice(available_moves)\n",
    "    game.make_move(first_move[0], first_move[1], 'X')\n",
    "    move_history.append(game.get_copy_board())\n",
    "    current_player = 'O'\n",
    "    \n",
    "    while not game.is_terminal():\n",
    "        best_move = get_best_move(game.board, current_player)\n",
    "        if best_move:\n",
    "            game.make_move(best_move[0], best_move[1], current_player)\n",
    "            move_history.append(game.get_copy_board())\n",
    "        current_player = 'O' if current_player == 'X' else 'X'\n",
    "    \n",
    "    for board in move_history:\n",
    "        for row in board:\n",
    "            print(''.join(row))\n",
    "        print() \n",
    "    \n",
    "    print_result(game)\n",
    "    return game"
   ]
  },
  {
   "cell_type": "markdown",
   "metadata": {},
   "source": [
    "You can insert as many cells as you want above\n",
    "You are not Allowed to modify the code below this line.\n",
    "# ==============================="
   ]
  },
  {
   "cell_type": "code",
   "execution_count": 508,
   "metadata": {
    "collapsed": true
   },
   "outputs": [
    {
     "name": "stdout",
     "output_type": "stream",
     "text": [
      "*X*\n",
      "***\n",
      "***\n",
      "\n",
      "OX*\n",
      "***\n",
      "***\n",
      "\n",
      "OX*\n",
      "X**\n",
      "***\n",
      "\n",
      "OX*\n",
      "XO*\n",
      "***\n",
      "\n",
      "OX*\n",
      "XO*\n",
      "**X\n",
      "\n",
      "OXO\n",
      "XO*\n",
      "**X\n",
      "\n",
      "OXO\n",
      "XO*\n",
      "X*X\n",
      "\n",
      "OXO\n",
      "XO*\n",
      "XOX\n",
      "\n",
      "OXO\n",
      "XOX\n",
      "XOX\n",
      "\n",
      "Result: Draw Game\n"
     ]
    },
    {
     "data": {
      "text/plain": [
       "<__main__.TicTacToe at 0x222bdddf4a0>"
      ]
     },
     "execution_count": 508,
     "metadata": {},
     "output_type": "execute_result"
    }
   ],
   "source": [
    "#you need to implement print_result function to print out the result according to the required format\n",
    "start()"
   ]
  },
  {
   "cell_type": "raw",
   "metadata": {},
   "source": [
    "The moves and the results should be printed out as follows. Result should be one of the following 3: “X Wins!”, “O Wins!”, or “Draw Game”.\n",
    "\n",
    "***\n",
    "*X*\n",
    "***\n",
    "\n",
    "*O*\n",
    "*X*\n",
    "***\n",
    "\n",
    "*O*\n",
    "*X*\n",
    "**X\n",
    "\n",
    "*OO\n",
    "*X*\n",
    "**X\n",
    "\n",
    "XOO\n",
    "*X*\n",
    "**X\n",
    "\n",
    "Result: X Wins!\n"
   ]
  }
 ],
 "metadata": {
  "anaconda-cloud": {},
  "kernelspec": {
   "display_name": "Python 3",
   "language": "python",
   "name": "python3"
  },
  "language_info": {
   "codemirror_mode": {
    "name": "ipython",
    "version": 3
   },
   "file_extension": ".py",
   "mimetype": "text/x-python",
   "name": "python",
   "nbconvert_exporter": "python",
   "pygments_lexer": "ipython3",
   "version": "3.12.9"
  }
 },
 "nbformat": 4,
 "nbformat_minor": 1
}
