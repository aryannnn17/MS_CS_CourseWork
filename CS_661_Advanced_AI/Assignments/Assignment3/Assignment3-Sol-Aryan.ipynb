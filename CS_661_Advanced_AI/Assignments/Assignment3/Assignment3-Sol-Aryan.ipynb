{
 "cells": [
  {
   "cell_type": "markdown",
   "metadata": {},
   "source": [
    "## Assignment 3, 22-Queen Problem"
   ]
  },
  {
   "cell_type": "markdown",
   "metadata": {},
   "source": [
    "Your homework must be implemented in this Notebook file. \n",
    "You can add as many cells as you want. However, you are not allowed to touch the code below the line \"=============\".\n"
   ]
  },
  {
   "cell_type": "markdown",
   "metadata": {},
   "source": [
    "Name: Aryan Jigneshbhai Bhagat  \n",
    "NetID: sl5310  \n",
    "email: abhagat4@horizon.csueastbay.edu  "
   ]
  },
  {
   "cell_type": "code",
   "execution_count": 72,
   "metadata": {
    "collapsed": true
   },
   "outputs": [],
   "source": [
    "n = 22"
   ]
  },
  {
   "cell_type": "code",
   "execution_count": 73,
   "metadata": {
    "collapsed": true
   },
   "outputs": [],
   "source": [
    "def check_consistency(var, val, assignment):\n",
    "    for c, r in assignment.items():\n",
    "        if r == val or abs(r - val) == abs(c - var):\n",
    "            return 0\n",
    "    return 1\n",
    "\n",
    "def select_unassigned_variable(assignment, n):\n",
    "    for c in range(n):\n",
    "        if c not in assignment:\n",
    "            return c\n",
    "    return None"
   ]
  },
  {
   "cell_type": "code",
   "execution_count": 74,
   "metadata": {
    "collapsed": true
   },
   "outputs": [],
   "source": [
    "def recursive_backtracking(assignment, n, sols, max_sols):\n",
    "    if len(assignment) == n:\n",
    "        sols.append([(assignment[c], c) for c in range(n)])\n",
    "        return len(sols) >= max_sols\n",
    "    var = select_unassigned_variable(assignment, n)\n",
    "    for val in range(n):  \n",
    "        if check_consistency(var, val, assignment):\n",
    "            assignment[var] = val\n",
    "            if recursive_backtracking(assignment, n, sols, max_sols):\n",
    "                return 1\n",
    "            del assignment[var]\n",
    "    return 0"
   ]
  },
  {
   "cell_type": "code",
   "execution_count": 75,
   "metadata": {},
   "outputs": [],
   "source": [
    "def backtracking_search(n, max_sols=4):\n",
    "    sols = []\n",
    "    recursive_backtracking({}, n, sols, max_sols)\n",
    "    return sols[:max_sols]"
   ]
  },
  {
   "cell_type": "code",
   "execution_count": 76,
   "metadata": {},
   "outputs": [],
   "source": [
    "result = backtracking_search(n, max_sols=4)\n",
    "def print_result( sols):\n",
    "    for i, sol in enumerate(sols):\n",
    "        print(' '.join(f\"({r},{c})\" for c, r in sol))\n",
    "        if i < len(sols) - 1:\n",
    "            print()"
   ]
  },
  {
   "cell_type": "markdown",
   "metadata": {},
   "source": [
    "You can insert as many cells as you want above.\n",
    "You are not Allowed to modify the code below this line.\n",
    "# ==============================="
   ]
  },
  {
   "cell_type": "code",
   "execution_count": 77,
   "metadata": {
    "collapsed": true
   },
   "outputs": [
    {
     "name": "stdout",
     "output_type": "stream",
     "text": [
      "(0,0) (1,2) (2,4) (3,1) (4,3) (5,9) (6,13) (7,16) (8,19) (9,12) (10,18) (11,21) (12,17) (13,7) (14,20) (15,11) (16,8) (17,5) (18,15) (19,6) (20,10) (21,14)\n",
      "\n",
      "(0,0) (1,2) (2,4) (3,1) (4,3) (5,9) (6,13) (7,18) (8,14) (9,17) (10,20) (11,16) (12,21) (13,10) (14,7) (15,5) (16,19) (17,11) (18,6) (19,15) (20,12) (21,8)\n",
      "\n",
      "(0,0) (1,2) (2,4) (3,1) (4,3) (5,9) (6,13) (7,18) (8,16) (9,14) (10,19) (11,21) (12,15) (13,7) (14,20) (15,6) (16,12) (17,5) (18,8) (19,11) (20,17) (21,10)\n",
      "\n",
      "(0,0) (1,2) (2,4) (3,1) (4,3) (5,9) (6,14) (7,17) (8,19) (9,12) (10,15) (11,18) (12,21) (13,6) (14,20) (15,7) (16,10) (17,13) (18,5) (19,16) (20,8) (21,11)\n"
     ]
    }
   ],
   "source": [
    "#you need to implement print_result function to print out the result according to the required format\n",
    "print_result(result)"
   ]
  },
  {
   "cell_type": "markdown",
   "metadata": {},
   "source": [
    "\n",
    "The output format should be as follows. You only need to give 4 solutions in the following format.\n",
    "Example Output for 4-queens Problem. Each pair of values represents the position of a queen (row, column)\n",
    "\n",
    "(0,1) (1,3) (2,0) (3,2)\n",
    "\n",
    "(0,2) (1,0) (2,3) (3,1)\n",
    "\n",
    "\n"
   ]
  }
 ],
 "metadata": {
  "anaconda-cloud": {},
  "kernelspec": {
   "display_name": "Python 3",
   "language": "python",
   "name": "python3"
  },
  "language_info": {
   "codemirror_mode": {
    "name": "ipython",
    "version": 3
   },
   "file_extension": ".py",
   "mimetype": "text/x-python",
   "name": "python",
   "nbconvert_exporter": "python",
   "pygments_lexer": "ipython3",
   "version": "3.10.11"
  }
 },
 "nbformat": 4,
 "nbformat_minor": 1
}
